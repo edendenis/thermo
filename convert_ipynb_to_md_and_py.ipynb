{
 "cells": [
  {
   "cell_type": "code",
   "execution_count": 1,
   "metadata": {},
   "outputs": [],
   "source": [
    "# -*- coding: utf-8 -*-\n"
   ]
  },
  {
   "cell_type": "markdown",
   "metadata": {},
   "source": [
    "# Converter um arquivo do tipo Jupyter Notebook file (`.ipynb`) para Markdown (`.md`) e Python (`.py`)"
   ]
  },
  {
   "cell_type": "markdown",
   "metadata": {},
   "source": [
    "## Resumo\n",
    "\n",
    "Este arquivo converte todos os arquivos com o nome `README.ipynb` para `.md` e `.py` a partir da pasta raiz e percorrendo as subpastas.\n",
    "\n",
    "## _Abstract_\n",
    "\n",
    "_This file converts all files with the name `README.ipynb` to `.md` and `.py` starting from the root folder and traversing the subfolders._"
   ]
  },
  {
   "cell_type": "markdown",
   "metadata": {},
   "source": [
    "## Revisão(ões)/Versão(ões)\n",
    "\n",
    "|Revisão número |Data da revisão |Descrição da revisão                                    |Autor da revisão                                |\n",
    "|:-------------:|:--------------:|:-------------------------------------------------------|:-----------------------------------------------|\n",
    "|0              |26/01/2024      |<ul><li>Revisão inicial/criação do documento.</li></ul> |<ul><li>Eden Denis F. da S. L. Santos</li></ul> |\n",
    "|1              |29/01/2024      |<ul><li>Adição de linha de aviso para evitar edição direta ao documento (.md) gerado.</li></ul> |<ul><li>Levi M. Araújo</li></ul> |\n",
    "|2              |30/01/2024      |<ul><li>Traduzido os comentários para português brasileiro para seguir a padronização.</li></ul> <ul><li>Traduzida as saídas para português brasileiro para seguir a padronização.</li></ul> |<ul><li>Eden Denis F. da S. L. Santos</li></ul> |\n",
    "|3              |01/02/2024      |<ul><li>Incluído código para remover redudâncias do arquivo `contert_ipynb_to_md.ipynb` automaticamente.</li></ul> <ul><li>Foram combinados os códigos para aproveitar a estrutura de repetição e gerar o `.md` e `,py` na mesma estrutura.</li></ul> |<ul><li>Eden Denis F. da S. L. Santos</li></ul> |\n"
   ]
  },
  {
   "cell_type": "code",
   "execution_count": 2,
   "metadata": {},
   "outputs": [],
   "source": [
    "# ! pip install nbconvert\n"
   ]
  },
  {
   "cell_type": "markdown",
   "metadata": {},
   "source": [
    "# 1. Converter um arquivo do tipo Jupyter Notebook file (`.ipynb`) para Markdown (`.md`) e Python (`.py`)\n",
    "\n",
    "Para executar o código fornecido em todos os arquivos `README.ipynb` na pasta raiz e subpastas, você precisará realizar executar o código abaixo. Uma abordagem eficaz é usar o módulo `os` do Python para percorrer todos os diretórios e subdiretórios, encontrando arquivos que correspondam ao nome `README.ipynb`. A seguir, apresento um exemplo de como você pode fazer isso:\n",
    "\n",
    "Esse código utiliza `os.walk()` para percorrer todos os diretórios e subdiretórios da pasta atual (indicada por '.'). Ele verifica se algum dos arquivos nos diretórios é um `README.ipynb` e, em seguida, realiza o processo de conversão para Markdown, como especificado no seu código original. O caminho completo do arquivo é usado para garantir que o arquivo correto seja convertido, independente de onde ele esteja na estrutura de pastas."
   ]
  },
  {
   "cell_type": "code",
   "execution_count": 3,
   "metadata": {},
   "outputs": [
    {
     "name": "stdout",
     "output_type": "stream",
     "text": [
      "./README.ipynb was successfully converted to ./README.md and ./README.py\n"
     ]
    }
   ],
   "source": [
    "import os\n",
    "from nbconvert import MarkdownExporter, PythonExporter\n",
    "import nbformat\n",
    "\n",
    "# Definindo o nome do arquivo que deve ser excluído das subpastas\n",
    "excluded_file = 'convert_ipynb_to_md.ipynb'\n",
    "\n",
    "# Obtendo o caminho absoluto da pasta raiz\n",
    "root_path = os.path.abspath('.')\n",
    "\n",
    "# Percorrendo todos os diretórios e subdiretórios a partir da pasta atual\n",
    "for dirpath, dirnames, filenames in os.walk('.'):\n",
    "    for filename in filenames:\n",
    "        # Construindo o caminho completo do arquivo\n",
    "        full_path = os.path.join(dirpath, filename)\n",
    "\n",
    "        if filename == 'README.ipynb':\n",
    "            try:\n",
    "                # Tentando ler o arquivo .ipynb para verificar se é um JSON válido\n",
    "                with open(full_path, 'r') as file:\n",
    "                    nbformat.read(file, as_version=4)\n",
    "\n",
    "                # Criando um objeto MarkdownExporter\n",
    "                markdown_exporter = MarkdownExporter()\n",
    "                # Criando um objeto PythonExporter\n",
    "                python_exporter = PythonExporter()\n",
    "\n",
    "                # Exportando o arquivo .ipynb para código Markdown\n",
    "                markdown_code, _ = markdown_exporter.from_filename(full_path)\n",
    "                # Exportando o arquivo .ipynb para código Python\n",
    "                python_code, _ = python_exporter.from_filename(full_path)\n",
    "\n",
    "                # Definindo o nome do arquivo de saída .md\n",
    "                markdown_output_filename = full_path.replace('.ipynb', '.md')\n",
    "                # Definindo o nome do arquivo de saída .py\n",
    "                python_output_filename = full_path.replace('.ipynb', '.py')\n",
    "\n",
    "                # Escrevendo o código Markdown no arquivo de saída\n",
    "                with open(markdown_output_filename, 'w') as file:\n",
    "                    file.write(markdown_code)\n",
    "                # Escrevendo o código Python no arquivo de saída\n",
    "                with open(python_output_filename, 'w') as file:\n",
    "                    file.write(python_code)\n",
    "\n",
    "                print(f'{full_path} was successfully converted to {markdown_output_filename} and {python_output_filename}')\n",
    "\n",
    "            except nbformat.reader.NotJSONError as e:\n",
    "                print(f'Error processing {full_path}: File is not valid JSON - {e}')\n",
    "\n",
    "        # Verificando se o arquivo é o que deve ser excluído e se não está na pasta raiz\n",
    "        elif filename == excluded_file and os.path.abspath(dirpath) != root_path:\n",
    "            # Excluindo o arquivo\n",
    "            os.remove(full_path)\n",
    "            print(f'Deleted file: {full_path}')\n"
   ]
  },
  {
   "cell_type": "markdown",
   "metadata": {},
   "source": [
    "## Referências\n",
    "\n",
    "[1] OPENAI. ***Converter vários README.ipynb para .md e .py:*** https://chat.openai.com/c/50f64d4d-cfe7-40ac-a8aa-27ffa4eb5a5e. ChatGPT. Acessado em: 26/01/2024 11:35."
   ]
  }
 ],
 "metadata": {
  "kernelspec": {
   "display_name": "Python 3 (ipykernel)",
   "language": "python",
   "name": "python3"
  },
  "language_info": {
   "codemirror_mode": {
    "name": "ipython",
    "version": 3
   },
   "file_extension": ".py",
   "mimetype": "text/x-python",
   "name": "python",
   "nbconvert_exporter": "python",
   "pygments_lexer": "ipython3",
   "version": "3.11.7"
  }
 },
 "nbformat": 4,
 "nbformat_minor": 2
}
