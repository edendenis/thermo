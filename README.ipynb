{
 "cells": [
  {
   "cell_type": "markdown",
   "metadata": {},
   "source": [
    "# Thermo\n",
    "\n",
    "[![DOI](https://zenodo.org/badge/758773408.svg)](https://zenodo.org/doi/10.5281/zenodo.10673180)\n"
   ]
  },
  {
   "cell_type": "markdown",
   "metadata": {},
   "source": [
    "## Resumo\n",
    "\n",
    "Aplicação Computacional do Thermo. O programa Thermo converte instantaneamente entre Celsius, Fahrenheit e Kelvin. Com uma interface simples, facilita conversões precisas de temperatura entre diferentes unidades, úteis tanto para fins científicos quanto para fins cotidianos.\n",
    "\n",
    "## _Abstract_\n",
    "\n",
    "_Computational Application of Thermo. The Thermo program instantly converts between Celsius, Fahrenheit, and Kelvin. With a simple interface, it facilitates precise temperature conversions across different units, useful for both scientific and everyday purposes._"
   ]
  },
  {
   "cell_type": "markdown",
   "metadata": {},
   "source": [
    "## Revisão(ões)/Versão(ões)\n",
    "\n",
    "| Revisão número | Data da revisão | Descrição da revisão                                    | Autor da revisão                                |\n",
    "|:--------------:|:---------------:|:--------------------------------------------------------|:------------------------------------------------|\n",
    "| 0              | 16/02/2024      | <ul><li>Revisão inicial/criação do documento.</li></ul> | <ul><li>Eden Denis F. da S. L. Santos</li></ul> |\n"
   ]
  },
  {
   "cell_type": "markdown",
   "metadata": {},
   "source": [
    "## 1. Como executar a aplicação\n",
    "\n",
    "1. Abrir o arquivo `main_<nome_da_aplicacao>.py` o qual está com comentários, alterar o banco de dados (existem exemplos de bancos de dados) na pasta que deverá ser utilizado para a execução e executar todas as células. \n",
    "    \n",
    "    Perceber que o <nome_da_aplicacao> trata-se, redudantemente, do nome da aplicação. Coloquei desta forma, pois quis, por ora, generalizar o arquivo `README.md` para poder criar o repositório de cada uma das aplicações que desenvolvi ao longo da minha carreira."
   ]
  },
  {
   "cell_type": "markdown",
   "metadata": {},
   "source": [
    "## Referências\n",
    "\n",
    "[1] RICIERI, A. P.. ***Curso matemática aplicada à vida***. Prandiano, São Paulo, 2005.\n",
    "\n",
    "[2] SANTOS, E. D. F. da S. L.. ***Curso de excel: módulo i***. EDF Tecnologia, São Paulo, 2011.\n"
   ]
  }
 ],
 "metadata": {
  "kernelspec": {
   "display_name": "Python 3 (ipykernel)",
   "language": "python",
   "name": "python3"
  },
  "language_info": {
   "codemirror_mode": {
    "name": "ipython",
    "version": 3
   },
   "file_extension": ".py",
   "mimetype": "text/x-python",
   "name": "python",
   "nbconvert_exporter": "python",
   "pygments_lexer": "ipython3",
   "version": "3.11.5"
  }
 },
 "nbformat": 4,
 "nbformat_minor": 2
}
