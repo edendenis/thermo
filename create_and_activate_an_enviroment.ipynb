{
 "cells": [
  {
   "cell_type": "code",
   "execution_count": 1,
   "metadata": {},
   "outputs": [],
   "source": [
    "# -*- coding: utf-8 -*-"
   ]
  },
  {
   "cell_type": "markdown",
   "metadata": {},
   "source": [
    "# 1 Criar um ambiente virtual e gerar arquivo com seus requisitos\n",
    "\n",
    "## 1.1 Descrição\n",
    "\n",
    "Criar um ambiente virtual "
   ]
  },
  {
   "cell_type": "markdown",
   "metadata": {},
   "source": [
    "### 1.2.1 Pacote(s) convecional(s)"
   ]
  },
  {
   "cell_type": "code",
   "execution_count": 2,
   "metadata": {},
   "outputs": [],
   "source": [
    "import os\n",
    "import sys"
   ]
  },
  {
   "cell_type": "markdown",
   "metadata": {},
   "source": [
    "### 1.2.2 Pacote(s) específico(s)"
   ]
  },
  {
   "cell_type": "code",
   "execution_count": 3,
   "metadata": {},
   "outputs": [],
   "source": [
    "# Instalar o(s) pacote(s) abaixo em ambos os gerenciadores (pip e conda):\n",
    "# ! pip install virtualenv\n",
    "# ! conda install virtualenv"
   ]
  },
  {
   "cell_type": "code",
   "execution_count": 4,
   "metadata": {},
   "outputs": [
    {
     "data": {
      "text/plain": [
       "'/home/eden/Documents/EDF/APPS/excel_vba_p/Formica/FormicaCusto'"
      ]
     },
     "execution_count": 4,
     "metadata": {},
     "output_type": "execute_result"
    }
   ],
   "source": [
    "# Obter o caminho absoluto da pasta atual do script\n",
    "current_path = os.getcwd()\n",
    "current_path"
   ]
  },
  {
   "cell_type": "markdown",
   "metadata": {},
   "source": [
    "## 1.3 Criar o ambiente virtual\n",
    "\n",
    "**ATENÇÂO:** Somente criar o ambiente virtual se este NÃO existir. NÂO se assuste caso tenha executado este código, pois, possivelmente será criado um ambiente virtual com o mesmo nome e deverá ser instalos o(s) pacote(s) e suas dependências, ver Seção **Instalar as dependências a partir do arquivo requirements**."
   ]
  },
  {
   "cell_type": "code",
   "execution_count": 5,
   "metadata": {},
   "outputs": [],
   "source": [
    "# import sys\n",
    "\n",
    "# previous_path: previous path\n",
    "previous_path = \\\n",
    "    current_path + \"/venvs/\"\n",
    "previous_path\n",
    "\n",
    "# Add folder path to sys.path\n",
    "sys.path.append(previous_path)"
   ]
  },
  {
   "cell_type": "code",
   "execution_count": 6,
   "metadata": {},
   "outputs": [],
   "source": [
    "# Use a função os.makedirs() para criar a pasta (incluindo os diretórios pai, se necessário)\n",
    "os.makedirs(previous_path, exist_ok=True)"
   ]
  },
  {
   "cell_type": "code",
   "execution_count": 7,
   "metadata": {},
   "outputs": [
    {
     "data": {
      "text/plain": [
       "'/home/eden/Documents/EDF/APPS/excel_vba_p/Formica/FormicaCusto/venvs/proplib-develop'"
      ]
     },
     "execution_count": 7,
     "metadata": {},
     "output_type": "execute_result"
    }
   ],
   "source": [
    "entire_app_name = \"proplib-develop\"\n",
    "\n",
    "enviroment_path = \\\n",
    "    previous_path + entire_app_name\n",
    "enviroment_path"
   ]
  },
  {
   "cell_type": "code",
   "execution_count": 8,
   "metadata": {},
   "outputs": [
    {
     "name": "stdout",
     "output_type": "stream",
     "text": [
      "Error: [Errno 5] Input/output error: 'lib' -> '/home/eden/Documents/EDF/APPS/excel_vba_p/Formica/FormicaCusto/venvs/proplib-develop/lib64'\n"
     ]
    }
   ],
   "source": [
    "# **ATENÇÃO:** Executar o código abaixo somente se for instalar as dependências do ambiente virtual já criado.\n",
    "\n",
    "# \"\"\"\n",
    "# Instalar o(s) pacote(s) abaixo em ambos os gerenciadores (pip e conda):\n",
    "! python3.8 -m venv \"{enviroment_path}\"\n",
    "# ! conda creat --name \"{enviroment_path}\"\n",
    "# \"\"\""
   ]
  },
  {
   "cell_type": "code",
   "execution_count": 9,
   "metadata": {},
   "outputs": [],
   "source": [
    "# List the virtual enviroment requirements\n",
    "freeze_file_path = \\\n",
    "    enviroment_path + \"/requirements_\" + entire_app_name + \".txt\"\n",
    "! pip freeze > \"{freeze_file_path}\""
   ]
  },
  {
   "cell_type": "markdown",
   "metadata": {},
   "source": [
    "### 1.3.1 Linux Ubuntu"
   ]
  },
  {
   "cell_type": "code",
   "execution_count": 10,
   "metadata": {},
   "outputs": [
    {
     "name": "stdout",
     "output_type": "stream",
     "text": [
      "zsh:source:1: no such file or directory: /home/eden/Documents/EDF/APPS/excel_vba_p/Formica/FormicaCusto/venvs/proplib-develop/bin/activate\n"
     ]
    }
   ],
   "source": [
    "activate_enviroment_path = enviroment_path + \"/bin/activate\"\n",
    "! source \"{activate_enviroment_path}\""
   ]
  },
  {
   "cell_type": "markdown",
   "metadata": {},
   "source": [
    "### 1.3.2 Windows"
   ]
  },
  {
   "cell_type": "code",
   "execution_count": 11,
   "metadata": {},
   "outputs": [],
   "source": [
    "# activate_enviroment_path = enviroment_path + \"\\Scripts\\activate\"\n",
    "# ! \"{activate_enviroment_path}\""
   ]
  },
  {
   "cell_type": "markdown",
   "metadata": {},
   "source": [
    "## 1.4 Instalar as dependências a partir do arquivo requirements.txt\n",
    "\n",
    "**ATENÇÃO:** Executar o código abaixo somente se for instalar as dependências do ambiente virtual já criado. NÂO se assuste caso tenha executado este código, pois será verificado a(s) versão(ões) do(s) pacote(s)."
   ]
  },
  {
   "cell_type": "code",
   "execution_count": 12,
   "metadata": {},
   "outputs": [
    {
     "name": "stdout",
     "output_type": "stream",
     "text": [
      "Processing /croot/aiobotocore_1701291493089/work (from -r /home/eden/Documents/EDF/APPS/excel_vba_p/Formica/FormicaCusto/venvs/proplib-develop/requirements_proplib-develop.txt (line 1))\n",
      "\u001b[31mERROR: Could not install packages due to an OSError: [Errno 2] No such file or directory: '/croot/aiobotocore_1701291493089/work'\n",
      "\u001b[0m\u001b[31m\n",
      "\u001b[0m"
     ]
    }
   ],
   "source": [
    "# ATENÇÃO: Executar o código abaixo somente se for instalar as dependências do ambiente virtual já criado.\n",
    "\n",
    "# \"\"\"\n",
    "# ! Instalar todas as dependências necessárias executando o comando:\n",
    "! pip install -r \"{freeze_file_path}\"\n",
    "# \"\"\""
   ]
  },
  {
   "cell_type": "markdown",
   "metadata": {},
   "source": [
    "# Referências\n",
    "\n",
    "[1] Matthes, E.. **_Python Crash Course: A Hands-On, Project-Based Introduction to Programming (2nd ed.)_**. No Starch Press, 2019."
   ]
  }
 ],
 "metadata": {
  "kernelspec": {
   "display_name": "venvproplib",
   "language": "python",
   "name": "python3"
  },
  "language_info": {
   "codemirror_mode": {
    "name": "ipython",
    "version": 3
   },
   "file_extension": ".py",
   "mimetype": "text/x-python",
   "name": "python",
   "nbconvert_exporter": "python",
   "pygments_lexer": "ipython3",
   "version": "3.11.7"
  },
  "orig_nbformat": 4
 },
 "nbformat": 4,
 "nbformat_minor": 2
}
